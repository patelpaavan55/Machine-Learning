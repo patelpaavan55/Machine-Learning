{
 "cells": [
  {
   "cell_type": "markdown",
   "metadata": {},
   "source": [
    "# Multiclass logistic regression from scratch\n",
    "\n",
    "If you've made it through our tutorials on linear regression from scratch, then you're past the hardest part. You already know how to load and manipulate data, build computation graphs on the fly, and take derivatives. You also know how to define a loss function, construct a model, and write your own optimizer. Nearly all neural networks that we'll build in the real world consist of these same fundamental parts. The main differences will be the type and scale of the data and the complexity of the models. And every year or two, a new hipster optimizer comes around, but at their core they're all subtle variations of stochastic gradient descent.\n",
    "\n",
    "In [the previous chapter](logistic-regressio-gluon.ipynb), we introduced logistic regression, a classic algorithm for performing binary classification.\n",
    "We implemented a model \n",
    "\n",
    "$$\\hat{y} = \\sigma( \\boldsymbol{x} \\boldsymbol{w}^T + b)$$\n",
    "where $\\sigma$ is the sigmoid squashing function.\n",
    "\n",
    "This activation function on the final layer was crucial because it forced our outputs to take values in the range [0,1]. That allowed us to interpret these outputs as probabilties.\n",
    "We then updated our parameters to give the true labels (which take values either 1 or 0)\n",
    "the highest probability.\n",
    "In that tutorial, we looked at predicting whether or not an individual's income exceeded $50k based on features available in 1994 census data. \n",
    "\n",
    "Binary classification is quite useful. We can use it to predict spam vs. not spam\n",
    "or cancer vs not cancer. \n",
    "But not every problem fits the mold of binary classification. \n",
    "Sometimes we encounter a problem where each example could belong to one of $k$ classes.\n",
    "For example, a photograph might depict a cat or a dog or a zebra or ... (you get the point).\n",
    "Given $k$ classes, the most naive way to solve a *multiclass classification* problem \n",
    "is to train $k$ different binary classifiers $f_i(\\boldsymbol{x})$. \n",
    "We could then predict that an example $\\boldsymbol{x}$ belongs \n",
    "to the class $i$ for which the probability that the label applies is highest:\n",
    "\n",
    "$$\\max_i {f_i(\\boldsymbol{x})}$$\n",
    "\n",
    "There's a smarter way to go about this. \n",
    "We could force the output layer to be a discrete probability distribution over the $k$ classes.\n",
    "To be a valid probability distribution, we'll want the output $\\hat{y}$ to (i) contain only non-negative values, and (ii) sum to 1. We accomplish this by using the *softmax* function.\n",
    "Given an input vector $z$, softmax does two things. \n",
    "First, it exponentiates (elementwise) $e^{z}$, forcing all values to be strictly positive.\n",
    "Then it normalizes so that all values sum to $1$.\n",
    "Following the softmax operation computes the following\n",
    "\n",
    "$$\\text{softmax}(\\boldsymbol{z}) = \\frac{e^{\\boldsymbol{z}} }{\\sum_{i=1}^k e^{z_i}}$$\n",
    "\n",
    "Because now we have $k$ outputs and not $1$ we'll need weights connecting each of our inputs to each of our outputs. Graphically, the network looks something like this:\n",
    "\n",
    "![](https://github.com/zackchase/mxnet-the-straight-dope/blob/master/img/simple-softmax-net.png?raw=true)\n",
    "\n",
    "We can represent these weights one for each input node, output node pair in a matrix $W$.\n",
    "We generate the linear mapping from inputs to outputs via a matrix-vector product $\\boldsymbol{x} W + \\boldsymbol{b}$. Note that the bias term is now a vector, with one component for each output node.\n",
    "The whole model, including the activation function can be written:\n",
    "\n",
    "$$\\hat{y} = \\text{softmax}(\\boldsymbol{x} W + \\boldsymbol{b})$$\n",
    "\n",
    "This model is sometimes called *multiclass logistic regression*. \n",
    "Other common names for it include *softmax regression* and *multinomial regression*.\n",
    "For these concepts to sink in, let's actually implement softmax regression,\n",
    "and pick a slightly more interesting dataset this time. \n",
    "We're going to classify images of handwritten digits like these:\n",
    "![png](https://raw.githubusercontent.com/dmlc/web-data/master/mxnet/example/mnist.png) "
   ]
  },
  {
   "cell_type": "markdown",
   "metadata": {},
   "source": [
    "## About batch training\n",
    "\n",
    "In the above, we used plain lowercase letters for scalar variables, bolded lowercase letters for **row** vectors, and uppercase letters for matrices. Assume we have $d$ inputs and $k$ outputs. Let's note the shapes of the various variables explicitly as follows:\n",
    "\n",
    "$$\\underset{1 \\times k}{\\boldsymbol z} = \\underset{1 \\times d}{\\boldsymbol{x}}\\ \\underset{d \\times k}{W} + \\underset{1 \\times k}{\\boldsymbol{b}}$$\n",
    "\n",
    "Often we would one-hot encode the output label, for example $\\hat y = 5$ would be $\\boldsymbol {\\hat y}_{one-hot} = [0, 0, 0, 0, 1, 0, 0, 0, 0, 0]$ when one-hot encoded for a 10-class classfication problem. So $\\hat{y} = \\text{softmax}(\\boldsymbol z)$ becomes\n",
    "\n",
    "$$\\underset{1 \\times k}{\\boldsymbol{\\hat{y}}_{one-hot}} = \\text{softmax}_{one-hot}(\\underset{1 \\times k}{\\boldsymbol z})$$\n",
    "\n",
    "When we input a batch of $m$ training examples, we would have matrix $\\underset{m \\times d}{X}$ that is the vertical stacking of individual training examples $\\boldsymbol x_i$, due to the choice of using row vectors.\n",
    "\n",
    "$$\n",
    "X=\n",
    "\\begin{bmatrix}\n",
    "    \\boldsymbol x_1 \\\\\n",
    "    \\boldsymbol x_2 \\\\\n",
    "    \\vdots \\\\\n",
    "    \\boldsymbol x_m\n",
    "\\end{bmatrix}\n",
    "=\n",
    "\\begin{bmatrix}\n",
    "    x_{11} & x_{12} & x_{13} & \\dots  & x_{1d} \\\\\n",
    "    x_{21} & x_{22} & x_{23} & \\dots  & x_{2d} \\\\\n",
    "    \\vdots & \\vdots & \\vdots & \\ddots & \\vdots \\\\\n",
    "    x_{m1} & x_{m2} & x_{m3} & \\dots  & x_{md}\n",
    "\\end{bmatrix}$$\n",
    "\n",
    "Under this batch training situation, ${\\boldsymbol{\\hat{y}}_{one-hot}} = \\text{softmax}({\\boldsymbol z})$ turns into\n",
    "\n",
    "$$Y = \\text{softmax}(Z) = \\text{softmax}(XW + B)$$\n",
    "\n",
    "where matrix $\\underset{m \\times k}{B}$ is formed by having $m$ copies of $\\boldsymbol b$ as follows\n",
    "\n",
    "$$ B = \n",
    "\\begin{bmatrix}\n",
    "    \\boldsymbol b \\\\\n",
    "    \\boldsymbol b \\\\\n",
    "    \\vdots \\\\\n",
    "    \\boldsymbol b\n",
    "\\end{bmatrix}\n",
    "=\n",
    "\\begin{bmatrix}\n",
    "    b_{1} & b_{2} & b_{3} & \\dots  & b_{k} \\\\\n",
    "    b_{1} & b_{2} & b_{3} & \\dots  & b_{k} \\\\\n",
    "    \\vdots & \\vdots & \\vdots & \\ddots & \\vdots \\\\\n",
    "    b_{1} & b_{2} & b_{3} & \\dots  & b_{k}\n",
    "\\end{bmatrix}$$\n",
    "\n",
    "In actual implementation we can often get away with using $\\boldsymbol b$ directly instead of $B$ in the equation for $Z$ above, due to [broadcasting](https://docs.scipy.org/doc/numpy-1.13.0/user/basics.broadcasting.html).\n",
    "\n",
    "Each row of matrix $\\underset{m \\times k}{Z}$ corresponds to one training example. The softmax function operates on each row of matrix $Z$ and returns a matrix $\\underset{m \\times k}Y$, each row of which corresponds to the one-hot encoded prediction of one training example."
   ]
  },
  {
   "cell_type": "markdown",
   "metadata": {},
   "source": [
    "## Imports\n",
    "To start, let's import the usual libraries."
   ]
  },
  {
   "cell_type": "code",
   "execution_count": 1,
   "metadata": {},
   "outputs": [],
   "source": [
    "from __future__ import print_function\n",
    "import numpy as np\n",
    "import mxnet as mx\n",
    "from mxnet import nd, autograd, gluon\n",
    "mx.random.seed(1)"
   ]
  },
  {
   "cell_type": "markdown",
   "metadata": {},
   "source": [
    "## Set Context\n",
    "\n",
    "We'll also want to set the compute context where our data will typically live and where we'll be doing our modeling. Feel free to go ahead and change `model_ctx` to `mx.gpu(0)` if you're running on an appropriately endowed machine."
   ]
  },
  {
   "cell_type": "code",
   "execution_count": 2,
   "metadata": {},
   "outputs": [],
   "source": [
    "data_ctx = mx.cpu()\n",
    "model_ctx = mx.cpu()\n",
    "# model_ctx = mx.gpu()"
   ]
  },
  {
   "cell_type": "markdown",
   "metadata": {},
   "source": [
    "## The MNIST dataset\n",
    "\n",
    "This time we're going to work with real data, each a 28 by 28 centrally cropped black & white photograph of a handwritten digit. Our task will be come up with a model that can associate each image with the digit (0-9) that it depicts.\n",
    "\n",
    "To start, we'll use MXNet's utility for grabbing a copy of this dataset. The datasets accept a transform callback that can preprocess each item. Here we cast data and label to floats and normalize data to range [0, 1]:"
   ]
  },
  {
   "cell_type": "code",
   "execution_count": 3,
   "metadata": {},
   "outputs": [
    {
     "name": "stdout",
     "output_type": "stream",
     "text": [
      "Downloading C:\\Users\\Paavan Patel\\.mxnet\\datasets\\mnist\\train-images-idx3-ubyte.gz from https://apache-mxnet.s3-accelerate.dualstack.amazonaws.com/gluon/dataset/mnist/train-images-idx3-ubyte.gz...\n",
      "Downloading C:\\Users\\Paavan Patel\\.mxnet\\datasets\\mnist\\train-labels-idx1-ubyte.gz from https://apache-mxnet.s3-accelerate.dualstack.amazonaws.com/gluon/dataset/mnist/train-labels-idx1-ubyte.gz...\n",
      "Downloading C:\\Users\\Paavan Patel\\.mxnet\\datasets\\mnist\\t10k-images-idx3-ubyte.gz from https://apache-mxnet.s3-accelerate.dualstack.amazonaws.com/gluon/dataset/mnist/t10k-images-idx3-ubyte.gz...\n",
      "Downloading C:\\Users\\Paavan Patel\\.mxnet\\datasets\\mnist\\t10k-labels-idx1-ubyte.gz from https://apache-mxnet.s3-accelerate.dualstack.amazonaws.com/gluon/dataset/mnist/t10k-labels-idx1-ubyte.gz...\n"
     ]
    }
   ],
   "source": [
    "def transform(data, label):\n",
    "    return data.astype(np.float32)/255, label.astype(np.float32)\n",
    "mnist_train = gluon.data.vision.MNIST(train=True, transform=transform)\n",
    "mnist_test = gluon.data.vision.MNIST(train=False, transform=transform)"
   ]
  },
  {
   "cell_type": "markdown",
   "metadata": {},
   "source": [
    "There are two parts of the dataset for training and testing. Each part has N items and each item is a tuple of an image and a label:"
   ]
  },
  {
   "cell_type": "code",
   "execution_count": 4,
   "metadata": {},
   "outputs": [
    {
     "name": "stdout",
     "output_type": "stream",
     "text": [
      "(28, 28, 1) 5.0\n"
     ]
    }
   ],
   "source": [
    "image, label = mnist_train[0]\n",
    "print(image.shape, label)"
   ]
  },
  {
   "cell_type": "markdown",
   "metadata": {},
   "source": [
    "Note that each image has been formatted as a 3-tuple (height, width, channel). For color images, the channel would have 3 dimensions (red, green and blue)."
   ]
  },
  {
   "cell_type": "markdown",
   "metadata": {},
   "source": [
    "## Record the data and label shapes\n",
    "\n",
    "Generally, we don't want our model code to care too much about the exact shape of our input data. This way we could switch in a different dataset without changing the code that follows. Let's define variables to hold the number of inputs and outputs.\n"
   ]
  },
  {
   "cell_type": "code",
   "execution_count": 5,
   "metadata": {},
   "outputs": [],
   "source": [
    "num_inputs = 784\n",
    "num_outputs = 10\n",
    "num_examples = 60000"
   ]
  },
  {
   "cell_type": "markdown",
   "metadata": {},
   "source": [
    "Machine learning libraries generally expect to find images in (batch, channel, height, width) format. However, most libraries for visualization prefer (height, width, channel). Let's transpose our image into the expected shape. In this case, matplotlib expects either (height, width) or (height, width, channel) with RGB channels, so let's broadcast our single channel to 3."
   ]
  },
  {
   "cell_type": "code",
   "execution_count": 6,
   "metadata": {},
   "outputs": [
    {
     "name": "stdout",
     "output_type": "stream",
     "text": [
      "(28, 28, 3)\n"
     ]
    }
   ],
   "source": [
    "im = mx.nd.tile(image, (1,1,3))\n",
    "print(im.shape)"
   ]
  },
  {
   "cell_type": "markdown",
   "metadata": {},
   "source": [
    "Now we can visualize our image and make sure that our data and labels line up."
   ]
  },
  {
   "cell_type": "code",
   "execution_count": 7,
   "metadata": {},
   "outputs": [
    {
     "data": {
      "text/plain": [
       "<Figure size 640x480 with 1 Axes>"
      ]
     },
     "metadata": {},
     "output_type": "display_data"
    }
   ],
   "source": [
    "import matplotlib.pyplot as plt\n",
    "plt.imshow(im.asnumpy())\n",
    "plt.show()"
   ]
  },
  {
   "cell_type": "markdown",
   "metadata": {},
   "source": [
    "Ok, that's a beautiful five. "
   ]
  },
  {
   "cell_type": "markdown",
   "metadata": {},
   "source": [
    "## Load the data iterator\n",
    "\n",
    "Now let's load these images into a data iterator so we don't have to do the heavy lifting. "
   ]
  },
  {
   "cell_type": "code",
   "execution_count": 8,
   "metadata": {},
   "outputs": [],
   "source": [
    "batch_size = 64\n",
    "train_data = mx.gluon.data.DataLoader(mnist_train, batch_size, shuffle=True)"
   ]
  },
  {
   "cell_type": "markdown",
   "metadata": {},
   "source": [
    "We're also going to want to load up an iterator with *test* data. After we train on the training dataset we're going to want to test our model on the test data. Otherwise, for all we know, our model could be doing something stupid (or treacherous?) like memorizing the training examples and regurgitating the labels on command."
   ]
  },
  {
   "cell_type": "code",
   "execution_count": 9,
   "metadata": {},
   "outputs": [],
   "source": [
    "test_data = mx.gluon.data.DataLoader(mnist_test, batch_size, shuffle=False)"
   ]
  },
  {
   "cell_type": "markdown",
   "metadata": {},
   "source": [
    "## Allocate model parameters\n",
    "\n",
    "Now we're going to define our model. For this example, we're going to ignore the multimodal structure of our data and just flatten each image into a single 1D vector with 28x28 = 784 components. Because our task is multiclass classification, we want to assign a probability to each of the classes $P(Y = c \\mid X)$ given the input $X$. In order to do this we're going to need one vector of 784 weights for each class, connecting each feature to the corresponding output. Because there are 10 classes, we can collect these weights together in a 784 by 10 matrix.\n",
    "\n",
    "We'll also want to allocate one offset for each of the outputs. We call these offsets the *bias term* and collect them in the 10-dimensional array ``b``."
   ]
  },
  {
   "cell_type": "code",
   "execution_count": 10,
   "metadata": {},
   "outputs": [],
   "source": [
    "W = nd.random_normal(shape=(num_inputs, num_outputs),ctx=model_ctx)\n",
    "b = nd.random_normal(shape=num_outputs,ctx=model_ctx)\n",
    "\n",
    "params = [W, b]"
   ]
  },
  {
   "cell_type": "markdown",
   "metadata": {},
   "source": [
    "As before, we need to let MXNet know that we'll be expecting gradients corresponding to each of these parameters during training."
   ]
  },
  {
   "cell_type": "code",
   "execution_count": 11,
   "metadata": {},
   "outputs": [],
   "source": [
    "for param in params:\n",
    "    param.attach_grad()"
   ]
  },
  {
   "cell_type": "markdown",
   "metadata": {},
   "source": [
    "## Multiclass logistic regression\n",
    "\n",
    "In the linear regression tutorial, we performed regression, so we had just one output $\\hat{y}$ and tried to push this value as close as possible to the true target $y$. Here, instead of regression, we are performing *classification*, where we want to assign each input $X$ to one of $L$ classes. \n",
    "\n",
    "The basic modeling idea is that we're going to linearly map our input $X$ onto 10 different real valued outputs ``y_linear``. Then, before outputting these values, we'll want to normalize them so that they are non-negative and sum to 1. This normalization allows us to interpret the output $\\hat{y}$ as a valid probability distribution.\n",
    "\n"
   ]
  },
  {
   "cell_type": "code",
   "execution_count": 12,
   "metadata": {},
   "outputs": [],
   "source": [
    "def softmax(y_linear):\n",
    "    exp = nd.exp(y_linear-nd.max(y_linear, axis=1).reshape((-1,1)))\n",
    "    norms = nd.sum(exp, axis=1).reshape((-1,1))\n",
    "    return exp / norms"
   ]
  },
  {
   "cell_type": "code",
   "execution_count": 13,
   "metadata": {},
   "outputs": [
    {
     "name": "stdout",
     "output_type": "stream",
     "text": [
      "\n",
      "[[0.38854712 0.15868285 0.09794893 0.01202093 0.01595045 0.04553349\n",
      "  0.14224595 0.03143111 0.04231628 0.06532289]\n",
      " [0.08514825 0.43826103 0.02771222 0.08836042 0.17408127 0.05132056\n",
      "  0.02093019 0.06935012 0.03025254 0.01458343]]\n",
      "<NDArray 2x10 @cpu(0)>\n"
     ]
    }
   ],
   "source": [
    "sample_y_linear = nd.random_normal(shape=(2,10))\n",
    "sample_yhat = softmax(sample_y_linear)\n",
    "print(sample_yhat)"
   ]
  },
  {
   "cell_type": "markdown",
   "metadata": {},
   "source": [
    "Let's confirm that indeed all of our rows sum to 1. "
   ]
  },
  {
   "cell_type": "code",
   "execution_count": 14,
   "metadata": {},
   "outputs": [
    {
     "name": "stdout",
     "output_type": "stream",
     "text": [
      "\n",
      "[1. 1.]\n",
      "<NDArray 2 @cpu(0)>\n"
     ]
    }
   ],
   "source": [
    "print(nd.sum(sample_yhat, axis=1))"
   ]
  },
  {
   "cell_type": "markdown",
   "metadata": {},
   "source": [
    "But for small rounding errors, the function works as expected."
   ]
  },
  {
   "cell_type": "markdown",
   "metadata": {},
   "source": [
    "## Define the model\n",
    "\n",
    "Now we're ready to define our model"
   ]
  },
  {
   "cell_type": "code",
   "execution_count": 15,
   "metadata": {},
   "outputs": [],
   "source": [
    "def net(X):\n",
    "    y_linear = nd.dot(X, W) + b\n",
    "    yhat = softmax(y_linear)\n",
    "    return yhat"
   ]
  },
  {
   "cell_type": "markdown",
   "metadata": {},
   "source": [
    "## The  cross-entropy loss function\n",
    "\n",
    "Before we can start training, we're going to need to define a loss function that makes sense when our prediction is a  probability distribution. \n",
    "\n",
    "The relevant loss function here is called cross-entropy and it may be the most common loss function you'll find in all of deep learning. That's because at the moment, classification problems tend to be far more abundant than regression problems. \n",
    "\n",
    "The basic idea is that we're going to take a target Y that has been formatted as a one-hot vector, meaning one value corresponding to the correct label is set to 1 and the others are set to 0, e.g. ``[0, 1, 0, 0, 0, 0, 0, 0, 0, 0]``. \n",
    "\n",
    "\n",
    "The basic idea of cross-entropy loss is that we only care about how much probability the prediction assigned to the correct label. In other words, for true label 2, we only care about the component of yhat corresponding to 2. Cross-entropy attempts to maximize the log-likelihood given to the correct labels."
   ]
  },
  {
   "cell_type": "code",
   "execution_count": 16,
   "metadata": {},
   "outputs": [],
   "source": [
    "def cross_entropy(yhat, y):\n",
    "    return - nd.sum(y * nd.log(yhat+1e-6))"
   ]
  },
  {
   "cell_type": "markdown",
   "metadata": {},
   "source": [
    "## Optimizer\n",
    "\n",
    "For this example we'll be using the same stochastic gradient descent (SGD) optimizer as last time."
   ]
  },
  {
   "cell_type": "code",
   "execution_count": 17,
   "metadata": {},
   "outputs": [],
   "source": [
    "def SGD(params, lr):    \n",
    "    for param in params:\n",
    "        param[:] = param - lr * param.grad"
   ]
  },
  {
   "cell_type": "markdown",
   "metadata": {},
   "source": [
    "## Write evaluation loop to calculate accuracy\n",
    "\n",
    "While cross-entropy is nice, differentiable loss function, it's not the way humans usually evaluate performance on multiple choice tasks. More commonly we look at accuracy, the number of correct answers divided by the total number of questions. Let's write an evaluation loop that will take a data iterator and a network, returning the model's accuracy  averaged over the entire dataset."
   ]
  },
  {
   "cell_type": "code",
   "execution_count": 32,
   "metadata": {},
   "outputs": [],
   "source": [
    "def evaluate_accuracy(data_iterator, net):\n",
    "    numerator = 0.\n",
    "    denominator = 0.\n",
    "    for i, (data, label) in enumerate(data_iterator):\n",
    "        data = data.as_in_context(model_ctx).reshape((-1,784))\n",
    "\n",
    "        label = label.as_in_context(model_ctx)\n",
    "        label_one_hot = nd.one_hot(label, 10)\n",
    "        output = net(data)\n",
    "        if(i==1):\n",
    "            print(data.shape)\n",
    "            print(data[1:4,])\n",
    "            print(label_one_hot.shape)\n",
    "            print(output)\n",
    "        predictions = nd.argmax(output, axis=1)\n",
    "        numerator += nd.sum(predictions == label)\n",
    "        denominator += data.shape[0]\n",
    "    return (numerator / denominator).asscalar()"
   ]
  },
  {
   "cell_type": "markdown",
   "metadata": {},
   "source": [
    "Because we initialized our model randomly, and because roughly one tenth of all examples belong to each of the ten classes, we should have an accuracy in the ball park of .10."
   ]
  },
  {
   "cell_type": "code",
   "execution_count": 33,
   "metadata": {},
   "outputs": [
    {
     "name": "stdout",
     "output_type": "stream",
     "text": [
      "(64, 784)\n",
      "\n",
      "[[0. 0. 0. ... 0. 0. 0.]\n",
      " [0. 0. 0. ... 0. 0. 0.]\n",
      " [0. 0. 0. ... 0. 0. 0.]]\n",
      "<NDArray 3x784 @cpu(0)>\n",
      "(64, 10)\n",
      "\n",
      "[[1.56233811e-11 8.33247569e-18 8.94178229e-04 1.38309815e-05\n",
      "  8.95224606e-09 4.03747391e-12 1.35079699e-11 9.99091744e-01\n",
      "  3.24712213e-09 2.16673087e-07]\n",
      " [3.72112225e-08 9.32430521e-06 1.75514401e-06 4.43617441e-03\n",
      "  9.36503768e-01 4.45030406e-02 9.88838496e-04 1.87197782e-06\n",
      "  2.44193268e-03 1.11132516e-02]\n",
      " [4.93652624e-05 2.34696608e-06 1.39484078e-01 8.18830073e-01\n",
      "  3.29576991e-03 1.64844125e-04 2.95699947e-02 7.13082869e-03\n",
      "  1.46997406e-03 2.68772715e-06]\n",
      " [5.88533666e-11 7.45481541e-12 1.23307670e-10 7.06715676e-12\n",
      "  9.99192536e-01 5.65025415e-10 3.60720401e-06 1.69284631e-05\n",
      "  1.31310244e-05 7.73779408e-04]\n",
      " [2.19642221e-11 2.33238401e-10 7.29282661e-08 9.97935295e-01\n",
      "  7.53138274e-10 1.17915646e-04 3.18862021e-08 2.00626293e-09\n",
      "  1.94663927e-03 2.05717643e-09]\n",
      " [9.99948502e-01 7.35031865e-18 6.47250031e-09 2.76735102e-12\n",
      "  5.19685629e-23 5.14689054e-05 1.88784899e-09 1.20289258e-14\n",
      "  8.56749567e-12 1.15794334e-17]\n",
      " [5.94369998e-10 6.03252946e-19 1.15176800e-11 1.68358511e-07\n",
      "  3.73555597e-13 8.41849038e-14 1.51259206e-17 9.99999762e-01\n",
      "  2.67579639e-11 5.00241570e-10]\n",
      " [9.99996781e-01 6.39829051e-21 1.65763736e-10 5.27915819e-13\n",
      "  2.24571771e-23 3.09771940e-06 1.42025091e-13 9.74654625e-23\n",
      "  1.51881082e-07 5.14573994e-22]\n",
      " [1.17518266e-06 3.52071870e-15 9.99395609e-01 5.99082850e-04\n",
      "  1.53394116e-13 3.98678412e-06 4.09564933e-08 1.09719601e-12\n",
      "  1.00336671e-07 2.29009401e-14]\n",
      " [6.23937479e-13 8.70744916e-05 1.15006024e-07 1.14582581e-05\n",
      "  6.43391729e-11 1.20563442e-07 6.34901021e-11 2.03913655e-02\n",
      "  5.05712023e-03 9.74452794e-01]\n",
      " [6.67674180e-11 9.45773721e-01 3.69277295e-05 3.55607161e-04\n",
      "  7.95079003e-10 3.77165328e-04 9.10360359e-06 1.35923176e-06\n",
      "  5.32648787e-02 1.81251395e-04]\n",
      " [4.98336164e-16 3.55935365e-10 2.16062670e-08 5.30729238e-08\n",
      "  3.36445373e-06 6.69004713e-11 1.72149133e-12 9.99987960e-01\n",
      "  2.74220815e-06 5.82532539e-06]\n",
      " [6.54718315e-06 1.18671647e-04 9.36948527e-06 8.91674221e-01\n",
      "  4.54995579e-08 7.67186359e-02 9.04354280e-08 3.98175867e-11\n",
      "  3.14721763e-02 2.65344795e-07]\n",
      " [3.13811397e-05 4.27040213e-04 8.65312740e-02 2.19586701e-03\n",
      "  1.13087922e-01 2.65003485e-03 1.66120182e-04 3.16433668e-01\n",
      "  5.98532170e-05 4.78416800e-01]\n",
      " [7.46485429e-10 2.25267300e-04 7.42592704e-07 5.25509864e-02\n",
      "  2.31760577e-03 6.49872643e-04 2.00358485e-07 1.50961720e-03\n",
      "  1.10774226e-01 8.31971467e-01]\n",
      " [3.33937869e-16 6.64813661e-18 4.12791258e-15 1.77595966e-10\n",
      "  1.17763308e-12 1.00873129e-11 6.28206866e-19 9.99982357e-01\n",
      "  1.24568764e-08 1.75828754e-05]\n",
      " [3.97384127e-07 1.30121771e-08 1.28104416e-08 1.58546114e-04\n",
      "  4.96896027e-05 9.82274505e-05 1.54533075e-09 8.68048847e-01\n",
      "  8.06571052e-07 1.31643400e-01]\n",
      " [2.31644972e-05 1.48840870e-10 1.83991811e-04 5.00545667e-08\n",
      "  4.19709570e-04 2.24954402e-03 9.97122109e-01 1.43959113e-07\n",
      "  1.17667412e-06 5.63706806e-08]\n",
      " [2.93701864e-14 1.08941348e-16 1.00000000e+00 3.59758959e-11\n",
      "  3.32300331e-18 2.00208795e-12 7.58962053e-14 5.10076967e-21\n",
      "  5.20482657e-10 3.83312270e-18]\n",
      " [3.53304372e-08 6.16660389e-10 1.68894551e-10 7.65860568e-06\n",
      "  1.65727797e-05 9.44341636e-08 1.03815069e-13 9.84831333e-01\n",
      "  1.84087389e-06 1.51424147e-02]\n",
      " [5.37566835e-09 3.63674712e-06 7.92100181e-08 4.38555361e-08\n",
      "  3.74882075e-04 1.70182772e-02 8.30723650e-08 2.02625672e-09\n",
      "  9.82596815e-01 6.10451252e-06]\n",
      " [4.61267091e-16 5.73695246e-15 1.18512509e-15 1.51752028e-10\n",
      "  9.99853969e-01 3.43122020e-09 1.49418145e-10 1.80801381e-11\n",
      "  3.51144736e-05 1.10946799e-04]\n",
      " [4.58946115e-16 2.61542697e-11 1.00862501e-08 8.24718249e-09\n",
      "  2.12911004e-12 6.17623522e-11 5.04636660e-16 9.99997616e-01\n",
      "  7.43465245e-09 2.33023161e-06]\n",
      " [4.34760267e-07 7.22377991e-10 4.91679586e-09 5.14611959e-01\n",
      "  3.05606336e-05 4.85244781e-01 8.53335077e-05 4.15508248e-06\n",
      "  2.26670454e-05 9.20791763e-08]\n",
      " [1.22480877e-12 2.60977832e-17 3.41180822e-07 5.83489420e-12\n",
      "  1.94529228e-08 2.96762684e-11 9.99999642e-01 9.53023196e-14\n",
      "  7.31264604e-10 4.72991004e-13]\n",
      " [2.39924417e-11 9.91067111e-01 2.03261455e-03 9.67645610e-05\n",
      "  1.87119937e-07 1.32555369e-05 3.29026152e-05 2.34006602e-05\n",
      "  6.73338678e-03 3.90284640e-07]\n",
      " [7.41311510e-07 1.06293037e-08 1.02538138e-08 9.99876380e-01\n",
      "  9.37875645e-12 1.10121364e-04 2.12640051e-16 1.39370428e-07\n",
      "  1.08756603e-05 1.73354795e-06]\n",
      " [1.42051660e-15 9.92305405e-11 7.51172848e-08 9.29248484e-11\n",
      "  8.65530225e-08 3.06645163e-08 9.99999762e-01 1.48571238e-12\n",
      "  1.66662222e-08 3.54251251e-09]\n",
      " [7.91059378e-08 1.14187686e-04 3.83571954e-03 3.47797922e-03\n",
      "  1.54024214e-01 4.32844553e-03 5.85402781e-03 6.12195814e-04\n",
      "  3.89374234e-02 7.88815737e-01]\n",
      " [6.86872989e-11 2.47828234e-12 1.27227464e-08 9.99792159e-01\n",
      "  3.10665766e-14 1.86485835e-04 3.62857083e-16 9.11212510e-08\n",
      "  2.07950397e-05 4.44147332e-07]\n",
      " [3.90965725e-22 9.97554362e-01 3.55923824e-08 1.09626735e-05\n",
      "  6.99516764e-11 2.88026683e-07 3.27547554e-07 4.37088143e-11\n",
      "  2.43398780e-03 1.32725020e-09]\n",
      " [7.11103217e-15 7.32637145e-11 2.53087922e-14 1.78388964e-16\n",
      "  9.98574615e-01 4.41036400e-12 1.18131193e-05 6.93764024e-09\n",
      "  1.34779782e-07 1.41341134e-03]\n",
      " [4.09603818e-12 8.83215725e-01 4.25298640e-05 6.76246956e-02\n",
      "  1.27208082e-07 7.37387640e-03 7.60248622e-06 5.06572425e-04\n",
      "  3.76559719e-02 3.57287261e-03]\n",
      " [1.23365429e-13 2.28172030e-06 9.95130540e-05 5.26033901e-03\n",
      "  5.19093790e-09 4.08992812e-04 1.41564433e-05 9.93183315e-01\n",
      "  8.09407036e-04 2.21973038e-04]\n",
      " [1.57872967e-06 2.52012126e-12 2.96742510e-04 1.36103490e-11\n",
      "  1.32492281e-10 8.29371507e-04 9.98871982e-01 1.07661110e-16\n",
      "  3.28554677e-07 5.15719771e-14]\n",
      " [9.86201816e-15 2.74572184e-12 7.24389615e-09 9.59889235e-09\n",
      "  1.96221281e-05 4.20760388e-12 1.10399136e-12 7.32195040e-05\n",
      "  3.90570648e-07 9.99906778e-01]\n",
      " [1.35362052e-06 2.37790971e-07 5.92452148e-03 5.52560610e-04\n",
      "  3.46380943e-07 1.00408135e-06 9.93483007e-01 6.19797049e-07\n",
      "  3.63096951e-05 7.61154908e-08]\n",
      " [9.99889255e-01 3.75232499e-16 1.19807497e-10 4.14139209e-11\n",
      "  1.25583201e-15 9.98282776e-05 7.48796192e-10 2.21216432e-16\n",
      "  1.09147022e-05 7.91956941e-13]\n",
      " [2.47232146e-09 3.68267089e-14 1.20125186e-15 5.31302521e-06\n",
      "  6.61721844e-10 9.99644637e-01 1.71686537e-11 7.08634389e-07\n",
      "  3.48107889e-04 1.16392891e-06]\n",
      " [3.89331539e-10 7.22291506e-15 6.87320372e-13 2.36282077e-10\n",
      "  9.99997973e-01 8.93255248e-09 3.65552388e-08 2.91784458e-10\n",
      "  4.43800247e-10 1.95061921e-06]\n",
      " [2.19628916e-07 9.93354377e-08 2.20512502e-05 8.62000379e-05\n",
      "  5.68188028e-04 3.16855410e-04 1.08376989e-05 9.70001452e-07\n",
      "  1.05944368e-04 9.98888671e-01]\n",
      " [1.97278965e-07 1.97448358e-07 5.61501838e-06 8.77325692e-06\n",
      "  3.02059025e-01 2.07674184e-05 3.37536085e-06 4.11772548e-04\n",
      "  1.95929036e-03 6.95530951e-01]\n",
      " [1.22033924e-07 6.82665391e-14 9.99470413e-01 3.75926669e-04\n",
      "  2.33931902e-11 3.27091669e-08 4.00442257e-09 2.26134684e-11\n",
      "  1.53511079e-04 1.95072309e-11]\n",
      " [4.39822295e-04 9.65243280e-01 8.26639310e-03 9.50127069e-05\n",
      "  6.18990414e-09 1.25232188e-03 1.74777611e-04 8.47032027e-08\n",
      "  2.45000720e-02 2.81660123e-05]\n",
      " [1.01198203e-14 5.21698629e-10 4.51812931e-14 6.63965025e-08\n",
      "  1.61647573e-02 5.40847395e-06 1.90644046e-11 5.21395009e-07\n",
      "  7.70833958e-06 9.83821511e-01]\n",
      " [9.51884545e-08 1.44024517e-12 4.08878606e-07 1.32289868e-09\n",
      "  9.98689473e-01 4.65952610e-09 2.39946507e-06 1.01369934e-03\n",
      "  1.44656099e-06 2.92563054e-04]\n",
      " [2.47956544e-09 2.11952749e-04 6.91038222e-05 8.99979961e-04\n",
      "  2.13731943e-09 1.76380505e-04 2.91059599e-09 4.21141559e-11\n",
      "  9.98642147e-01 3.58962950e-07]\n",
      " [8.12609632e-11 1.35496348e-01 1.97970588e-02 2.36443826e-03\n",
      "  8.88903706e-09 2.33345759e-06 5.63023015e-08 8.37932527e-01\n",
      "  6.10997842e-04 3.79619491e-03]\n",
      " [1.13703231e-06 2.30119782e-04 7.60099560e-04 4.73631471e-01\n",
      "  3.09043813e-08 4.27004546e-01 4.38524751e-07 3.02620862e-09\n",
      "  9.83370990e-02 3.51235940e-05]\n",
      " [2.72734499e-13 2.58568576e-07 3.74432130e-09 1.17958706e-07\n",
      "  1.99212693e-03 1.63933575e-10 1.97689332e-09 3.09198047e-04\n",
      "  1.75741370e-05 9.97680664e-01]\n",
      " [8.95825704e-14 1.28509301e-08 1.42125692e-03 2.13844487e-06\n",
      "  4.30082963e-07 1.22649169e-09 7.55313057e-09 9.89379227e-01\n",
      "  3.35392940e-07 9.19657573e-03]\n",
      " [1.14037446e-09 1.85531667e-06 5.53180462e-06 3.97879148e-07\n",
      "  8.45791698e-01 3.41940176e-04 1.22260600e-01 1.03611410e-05\n",
      "  8.23793747e-03 2.33497173e-02]\n",
      " [1.64383318e-13 1.19055912e-07 1.26821715e-06 1.72532070e-03\n",
      "  9.92086947e-01 4.25126636e-05 1.12374482e-05 2.41352445e-05\n",
      "  2.47113919e-03 3.63740046e-03]\n",
      " [2.42019733e-16 9.92463316e-16 2.28621939e-12 6.03486228e-12\n",
      "  9.99999404e-01 5.79453152e-13 1.28421362e-07 2.76710122e-12\n",
      "  1.55571573e-08 4.06889484e-07]\n",
      " [2.28239774e-08 2.01130557e-09 4.22502671e-06 4.54522797e-06\n",
      "  1.00421026e-01 3.41175437e-05 2.32360526e-05 3.99747156e-02\n",
      "  3.22233210e-03 8.56315792e-01]\n",
      " [1.00731722e-06 2.79954601e-11 1.58386856e-01 3.54400044e-07\n",
      "  6.44250031e-06 4.26316634e-02 2.43626608e-04 2.85725653e-01\n",
      "  5.01781523e-01 1.12228589e-02]\n",
      " [5.31850293e-11 1.48705083e-15 3.71876467e-07 4.63012420e-02\n",
      "  1.43160810e-06 8.96053672e-01 3.38163005e-07 1.24619065e-13\n",
      "  5.76428883e-02 5.03807804e-08]\n",
      " [7.85376051e-06 2.18871848e-11 1.79346430e-03 2.11795346e-08\n",
      "  7.64836848e-01 3.45681146e-05 7.69028813e-02 4.28985246e-03\n",
      "  6.80038407e-02 8.41306522e-02]\n",
      " [3.58009664e-11 9.01212083e-09 1.24844860e-06 2.76129082e-04\n",
      "  2.23269649e-06 1.02563085e-07 3.27152794e-09 9.99508977e-01\n",
      "  4.37074874e-08 2.11190811e-04]\n",
      " [5.47002776e-10 1.77917300e-07 2.12649873e-04 1.02551885e-05\n",
      "  3.23093234e-04 2.07270682e-06 9.99444544e-01 1.53362450e-07\n",
      "  2.13355133e-06 4.85046712e-06]\n",
      " [1.09552978e-13 3.66878680e-11 1.38428305e-16 2.60908202e-08\n",
      "  2.80025452e-01 7.06532077e-09 2.89501367e-10 5.97331762e-01\n",
      "  3.47351357e-02 8.79076868e-02]\n",
      " [3.10750939e-11 1.76425703e-04 1.05196855e-03 6.15571844e-06\n",
      "  1.18681248e-02 1.08894096e-06 6.06068215e-06 8.69703508e-05\n",
      "  8.37433268e-04 9.85965788e-01]\n",
      " [8.84476542e-01 1.10425695e-14 3.19719799e-02 8.35480317e-02\n",
      "  1.07493943e-13 2.36782353e-06 5.56769734e-11 1.09103939e-06\n",
      "  4.73347761e-08 9.40803790e-09]\n",
      " [3.02663608e-07 6.42039824e-11 2.95356077e-08 1.45011771e-08\n",
      "  1.25729348e-05 9.99084949e-01 3.93208754e-09 3.22391946e-10\n",
      "  9.01906576e-04 1.56287911e-07]]\n",
      "<NDArray 64x10 @cpu(0)>\n"
     ]
    },
    {
     "data": {
      "text/plain": [
       "0.901"
      ]
     },
     "execution_count": 33,
     "metadata": {},
     "output_type": "execute_result"
    }
   ],
   "source": [
    "evaluate_accuracy(test_data, net)"
   ]
  },
  {
   "cell_type": "markdown",
   "metadata": {},
   "source": [
    "## Execute training loop"
   ]
  },
  {
   "cell_type": "code",
   "execution_count": 20,
   "metadata": {},
   "outputs": [
    {
     "name": "stdout",
     "output_type": "stream",
     "text": [
      "Epoch 0. Loss: 1.4188468691825866, Train_acc 0.85855, Test_acc 0.8656\n",
      "Epoch 1. Loss: 0.6167056037982305, Train_acc 0.8818833, Test_acc 0.8832\n",
      "Epoch 2. Loss: 0.5188698458313942, Train_acc 0.89203334, Test_acc 0.8881\n",
      "Epoch 3. Loss: 0.467188337012132, Train_acc 0.89816666, Test_acc 0.8951\n",
      "Epoch 4. Loss: 0.4348576088945071, Train_acc 0.90356666, Test_acc 0.901\n"
     ]
    }
   ],
   "source": [
    "epochs = 5\n",
    "learning_rate = .005\n",
    "\n",
    "for e in range(epochs):\n",
    "    cumulative_loss = 0\n",
    "    for i, (data, label) in enumerate(train_data):\n",
    "        data = data.as_in_context(model_ctx).reshape((-1,784))\n",
    "        label = label.as_in_context(model_ctx)\n",
    "        label_one_hot = nd.one_hot(label, 10)\n",
    "        with autograd.record():\n",
    "            output = net(data)\n",
    "            loss = cross_entropy(output, label_one_hot)\n",
    "        loss.backward()\n",
    "        SGD(params, learning_rate)\n",
    "        cumulative_loss += nd.sum(loss).asscalar()\n",
    "\n",
    "            \n",
    "    test_accuracy = evaluate_accuracy(test_data, net)\n",
    "    train_accuracy = evaluate_accuracy(train_data, net)\n",
    "    print(\"Epoch %s. Loss: %s, Train_acc %s, Test_acc %s\" % (e, cumulative_loss/num_examples, train_accuracy, test_accuracy))       "
   ]
  },
  {
   "cell_type": "markdown",
   "metadata": {},
   "source": [
    "## Using the model for prediction\n",
    "Let's make it more intuitive by picking 10 random data points from the test set and use the trained model for predictions."
   ]
  },
  {
   "cell_type": "code",
   "execution_count": 21,
   "metadata": {},
   "outputs": [
    {
     "name": "stdout",
     "output_type": "stream",
     "text": [
      "(10, 28, 28, 1)\n"
     ]
    },
    {
     "data": {
      "image/png": "[encoded data removed]",
      "text/plain": [
       "<Figure size 432x288 with 1 Axes>"
      ]
     },
     "metadata": {
      "needs_background": "light"
     },
     "output_type": "display_data"
    },
    {
     "name": "stdout",
     "output_type": "stream",
     "text": [
      "model predictions are: \n",
      "[1. 5. 8. 0. 1. 7. 9. 9. 8. 8.]\n",
      "<NDArray 10 @cpu(0)>\n"
     ]
    }
   ],
   "source": [
    "# Define the function to do prediction\n",
    "def model_predict(net,data):\n",
    "    output = net(data)\n",
    "    return nd.argmax(output, axis=1)\n",
    "\n",
    "# let's sample 10 random data points from the test set\n",
    "sample_data = mx.gluon.data.DataLoader(mnist_test, 10, shuffle=True)\n",
    "for i, (data, label) in enumerate(sample_data):\n",
    "    data = data.as_in_context(model_ctx)\n",
    "    print(data.shape)\n",
    "    im = nd.transpose(data,(1,0,2,3))\n",
    "    im = nd.reshape(im,(28,10*28,1))\n",
    "    imtiles = nd.tile(im, (1,1,3))\n",
    "    \n",
    "    plt.imshow(imtiles.asnumpy())\n",
    "    plt.show()\n",
    "    pred=model_predict(net,data.reshape((-1,784)))\n",
    "    print('model predictions are:', pred)\n",
    "    break"
   ]
  },
  {
   "cell_type": "markdown",
   "metadata": {},
   "source": [
    "## Conclusion\n",
    "\n",
    "Jeepers. We can get nearly 90% accuracy at this task just by training a linear model for a few seconds! You might reasonably conclude that this problem is too easy to be taken seriously by experts.\n",
    "\n",
    "But until recently, many papers (Google Scholar says 13,800) were published using results obtained on this data. Even this year, I reviewed a paper whose primary achievement was an (imagined) improvement in performance. While MNIST can be a nice toy dataset for testing new ideas, we don't recommend writing papers with it. "
   ]
  },
  {
   "cell_type": "markdown",
   "metadata": {},
   "source": [
    "## Next\n",
    "[Softmax regression with gluon](../chapter02_supervised-learning/softmax-regression-gluon.ipynb)"
   ]
  },
  {
   "cell_type": "markdown",
   "metadata": {},
   "source": [
    "For whinges or inquiries, [open an issue on  GitHub.](https://github.com/zackchase/mxnet-the-straight-dope)"
   ]
  }
 ],
 "metadata": {
  "kernelspec": {
   "display_name": "Python 3",
   "language": "python",
   "name": "python3"
  },
  "language_info": {
   "codemirror_mode": {
    "name": "ipython",
    "version": 3
   },
   "file_extension": ".py",
   "mimetype": "text/x-python",
   "name": "python",
   "nbconvert_exporter": "python",
   "pygments_lexer": "ipython3",
   "version": "3.6.9"
  }
 },
 "nbformat": 4,
 "nbformat_minor": 2
}
